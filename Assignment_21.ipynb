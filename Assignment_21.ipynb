{
 "cells": [
  {
   "cell_type": "markdown",
   "id": "41372ffa",
   "metadata": {},
   "source": [
    "## 1. Add the current date to the text file today.txt as a string."
   ]
  },
  {
   "cell_type": "code",
   "execution_count": 1,
   "id": "c9a18aa5",
   "metadata": {},
   "outputs": [],
   "source": [
    "from datetime import date"
   ]
  },
  {
   "cell_type": "code",
   "execution_count": 2,
   "id": "dd5a5555",
   "metadata": {},
   "outputs": [],
   "source": [
    "now = date.today()"
   ]
  },
  {
   "cell_type": "code",
   "execution_count": 3,
   "id": "4d5479fd",
   "metadata": {},
   "outputs": [],
   "source": [
    "now_str = now.isoformat()"
   ]
  },
  {
   "cell_type": "code",
   "execution_count": 4,
   "id": "fc20ffbe",
   "metadata": {},
   "outputs": [],
   "source": [
    "with open('today', 'wt') as output:\n",
    "    print(now_str, file=output)"
   ]
  },
  {
   "cell_type": "markdown",
   "id": "fbed78d7",
   "metadata": {},
   "source": [
    "# 2. Read the text file today.txt into the string today_string"
   ]
  },
  {
   "cell_type": "code",
   "execution_count": 5,
   "id": "27538fc2",
   "metadata": {},
   "outputs": [],
   "source": [
    "with open('today', 'rt') as input:\n",
    "    today_string = input.read()"
   ]
  },
  {
   "cell_type": "code",
   "execution_count": 6,
   "id": "d8278e44",
   "metadata": {},
   "outputs": [
    {
     "data": {
      "text/plain": [
       "'2023-05-04\\n'"
      ]
     },
     "execution_count": 6,
     "metadata": {},
     "output_type": "execute_result"
    }
   ],
   "source": [
    "today_string"
   ]
  },
  {
   "cell_type": "markdown",
   "id": "5a77b0cd",
   "metadata": {},
   "source": [
    "## 3. Parse the date from today_string."
   ]
  },
  {
   "cell_type": "code",
   "execution_count": 7,
   "id": "7990bab5",
   "metadata": {},
   "outputs": [],
   "source": [
    "fmt = '%Y-%m-%d\\n'"
   ]
  },
  {
   "cell_type": "markdown",
   "id": "f3ac5660",
   "metadata": {},
   "source": [
    "## 4. List the files in your current directory"
   ]
  },
  {
   "cell_type": "code",
   "execution_count": 10,
   "id": "306ed0af",
   "metadata": {},
   "outputs": [],
   "source": [
    "import os"
   ]
  },
  {
   "cell_type": "code",
   "execution_count": 11,
   "id": "8d9c95d9",
   "metadata": {},
   "outputs": [
    {
     "data": {
      "text/plain": [
       "['.ipynb_checkpoints',\n",
       " 'Assignment_15.ipynb',\n",
       " 'Assignment_16.ipynb',\n",
       " 'Assignment_17.ipynb',\n",
       " 'Assignment_18.ipynb',\n",
       " 'Assignment_19.ipynb',\n",
       " 'Assignment_20.ipynb',\n",
       " 'books.csv',\n",
       " 'books.db',\n",
       " 'My Music',\n",
       " 'My Pictures',\n",
       " 'My Videos',\n",
       " 'text.txt',\n",
       " 'today',\n",
       " 'Untitled.ipynb']"
      ]
     },
     "execution_count": 11,
     "metadata": {},
     "output_type": "execute_result"
    }
   ],
   "source": [
    "os.listdir('.')"
   ]
  },
  {
   "cell_type": "markdown",
   "id": "1638c5c3",
   "metadata": {},
   "source": [
    "## 5. Create a list of all of the files in your parent directory (minimum five files should be available)."
   ]
  },
  {
   "cell_type": "code",
   "execution_count": 12,
   "id": "673db727",
   "metadata": {},
   "outputs": [],
   "source": [
    "import os"
   ]
  },
  {
   "cell_type": "code",
   "execution_count": 14,
   "id": "f59d7631",
   "metadata": {},
   "outputs": [
    {
     "data": {
      "text/plain": [
       "['.conda',\n",
       " '.cufflinks',\n",
       " '.gitconfig',\n",
       " '.ipynb_checkpoints',\n",
       " '.ipython',\n",
       " '.jupyter',\n",
       " '.matplotlib',\n",
       " 'anaconda3',\n",
       " 'AppData',\n",
       " 'Application Data',\n",
       " 'Contacts',\n",
       " 'Cookies',\n",
       " 'Documents',\n",
       " 'Downloads',\n",
       " 'Favorites',\n",
       " 'grant',\n",
       " 'IntelGraphicsProfiles',\n",
       " 'Links',\n",
       " 'Local Settings',\n",
       " 'Music',\n",
       " 'My Documents',\n",
       " 'NetHood',\n",
       " 'NTUSER.DAT',\n",
       " 'ntuser.dat.LOG1',\n",
       " 'ntuser.dat.LOG2',\n",
       " 'NTUSER.DAT{a2332f18-cdbf-11ec-8680-002248483d79}.TM.blf',\n",
       " 'NTUSER.DAT{a2332f18-cdbf-11ec-8680-002248483d79}.TMContainer00000000000000000001.regtrans-ms',\n",
       " 'NTUSER.DAT{a2332f18-cdbf-11ec-8680-002248483d79}.TMContainer00000000000000000002.regtrans-ms',\n",
       " 'ntuser.ini',\n",
       " 'OneDrive',\n",
       " 'output_Fitbit.sql',\n",
       " 'Postman',\n",
       " 'PrintHood',\n",
       " 'PycharmProjects',\n",
       " 'python 2 class.ipynb',\n",
       " 'Recent',\n",
       " 'Saved Games',\n",
       " 'seaborn-data',\n",
       " 'Searches',\n",
       " 'SendTo',\n",
       " 'Start Menu',\n",
       " 'Templates',\n",
       " 'TeradataOdbcInstall.log',\n",
       " 'Untitled.ipynb',\n",
       " 'Untitled1.ipynb',\n",
       " 'Untitled2.ipynb',\n",
       " 'variable in python intro.ipynb',\n",
       " 'Videos']"
      ]
     },
     "execution_count": 14,
     "metadata": {},
     "output_type": "execute_result"
    }
   ],
   "source": [
    "os.listdir('..')"
   ]
  },
  {
   "cell_type": "markdown",
   "id": "6c03699e",
   "metadata": {},
   "source": [
    "## 6. Use multiprocessing to create three separate processes. Make each one wait a random number of seconds between one and five, print the current time, and then exit."
   ]
  },
  {
   "cell_type": "code",
   "execution_count": 15,
   "id": "cabee7ef",
   "metadata": {},
   "outputs": [],
   "source": [
    "import multiprocessing"
   ]
  },
  {
   "cell_type": "code",
   "execution_count": 18,
   "id": "1977fbbb",
   "metadata": {},
   "outputs": [],
   "source": [
    "def now(seconds):\n",
    "    from datetime import datetime \n",
    "    from time import sleep \n",
    "    sleep(seconds)\n",
    "    print('wait', seconds, 'seconds, time is', datetime.utcnow())"
   ]
  },
  {
   "cell_type": "code",
   "execution_count": 23,
   "id": "333862a0",
   "metadata": {},
   "outputs": [],
   "source": [
    "if now=='main':\n",
    "    import random \n",
    "    for n in range(3):\n",
    "        seconds = random.random()\n",
    "        proc = multiprocessing.Process(target=now,args=(seconds))\n",
    "        proc.start()"
   ]
  },
  {
   "cell_type": "markdown",
   "id": "17a1020d",
   "metadata": {},
   "source": [
    "## 7. Create a date object of your day of birth."
   ]
  },
  {
   "cell_type": "code",
   "execution_count": 25,
   "id": "73c38a18",
   "metadata": {},
   "outputs": [],
   "source": [
    "my_day = date(1997,11,12)"
   ]
  },
  {
   "cell_type": "code",
   "execution_count": 26,
   "id": "cde16df6",
   "metadata": {},
   "outputs": [
    {
     "data": {
      "text/plain": [
       "datetime.date(1997, 11, 12)"
      ]
     },
     "execution_count": 26,
     "metadata": {},
     "output_type": "execute_result"
    }
   ],
   "source": [
    "my_day"
   ]
  },
  {
   "cell_type": "markdown",
   "id": "e9c4458c",
   "metadata": {},
   "source": [
    "## 8. What day of the week was your day of birth?"
   ]
  },
  {
   "cell_type": "code",
   "execution_count": 27,
   "id": "8c979fa6",
   "metadata": {},
   "outputs": [
    {
     "data": {
      "text/plain": [
       "2"
      ]
     },
     "execution_count": 27,
     "metadata": {},
     "output_type": "execute_result"
    }
   ],
   "source": [
    "my_day.weekday()"
   ]
  },
  {
   "cell_type": "code",
   "execution_count": 28,
   "id": "6dc0ec0a",
   "metadata": {},
   "outputs": [
    {
     "data": {
      "text/plain": [
       "3"
      ]
     },
     "execution_count": 28,
     "metadata": {},
     "output_type": "execute_result"
    }
   ],
   "source": [
    "my_day.isoweekday()"
   ]
  },
  {
   "cell_type": "markdown",
   "id": "90ebd4ac",
   "metadata": {},
   "source": [
    "## 9. When will you be (or when were you) 10,000 days old?"
   ]
  },
  {
   "cell_type": "code",
   "execution_count": 29,
   "id": "68db7065",
   "metadata": {},
   "outputs": [],
   "source": [
    "from datetime import timedelta"
   ]
  },
  {
   "cell_type": "code",
   "execution_count": 30,
   "id": "35b527ff",
   "metadata": {},
   "outputs": [],
   "source": [
    "party_day = my_day + timedelta(days=10000)"
   ]
  },
  {
   "cell_type": "code",
   "execution_count": 31,
   "id": "ea204b12",
   "metadata": {},
   "outputs": [
    {
     "data": {
      "text/plain": [
       "datetime.date(2025, 3, 30)"
      ]
     },
     "execution_count": 31,
     "metadata": {},
     "output_type": "execute_result"
    }
   ],
   "source": [
    "party_day"
   ]
  },
  {
   "cell_type": "code",
   "execution_count": null,
   "id": "17ceff83",
   "metadata": {},
   "outputs": [],
   "source": []
  }
 ],
 "metadata": {
  "kernelspec": {
   "display_name": "Python 3 (ipykernel)",
   "language": "python",
   "name": "python3"
  },
  "language_info": {
   "codemirror_mode": {
    "name": "ipython",
    "version": 3
   },
   "file_extension": ".py",
   "mimetype": "text/x-python",
   "name": "python",
   "nbconvert_exporter": "python",
   "pygments_lexer": "ipython3",
   "version": "3.9.12"
  }
 },
 "nbformat": 4,
 "nbformat_minor": 5
}
